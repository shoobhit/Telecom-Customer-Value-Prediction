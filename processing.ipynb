{
 "cells": [
  {
   "cell_type": "code",
   "execution_count": 1,
   "id": "0e862c3a-e80f-4843-8b11-fd7ed47e2329",
   "metadata": {},
   "outputs": [],
   "source": [
    "import pandas as pd\n",
    "import numpy as np\n",
    "import matplotlib.pyplot as plt\n",
    "import seaborn as sns"
   ]
  },
  {
   "cell_type": "code",
   "execution_count": 3,
   "id": "07bc0338-9816-4798-8e80-44a24ad6276a",
   "metadata": {},
   "outputs": [],
   "source": [
    "df = pd.read_csv('telecom_churn.csv')"
   ]
  },
  {
   "cell_type": "code",
   "execution_count": 5,
   "id": "84e2b740-c820-429f-8fc0-731d7a863ec0",
   "metadata": {},
   "outputs": [
    {
     "data": {
      "text/html": [
       "<div>\n",
       "<style scoped>\n",
       "    .dataframe tbody tr th:only-of-type {\n",
       "        vertical-align: middle;\n",
       "    }\n",
       "\n",
       "    .dataframe tbody tr th {\n",
       "        vertical-align: top;\n",
       "    }\n",
       "\n",
       "    .dataframe thead th {\n",
       "        text-align: right;\n",
       "    }\n",
       "</style>\n",
       "<table border=\"1\" class=\"dataframe\">\n",
       "  <thead>\n",
       "    <tr style=\"text-align: right;\">\n",
       "      <th></th>\n",
       "      <th>customer_id</th>\n",
       "      <th>telecom_partner</th>\n",
       "      <th>gender</th>\n",
       "      <th>age</th>\n",
       "      <th>state</th>\n",
       "      <th>city</th>\n",
       "      <th>pincode</th>\n",
       "      <th>date_of_registration</th>\n",
       "      <th>num_dependents</th>\n",
       "      <th>estimated_salary</th>\n",
       "      <th>calls_made</th>\n",
       "      <th>sms_sent</th>\n",
       "      <th>data_used</th>\n",
       "      <th>churn</th>\n",
       "    </tr>\n",
       "  </thead>\n",
       "  <tbody>\n",
       "    <tr>\n",
       "      <th>0</th>\n",
       "      <td>1</td>\n",
       "      <td>Reliance Jio</td>\n",
       "      <td>F</td>\n",
       "      <td>25</td>\n",
       "      <td>Karnataka</td>\n",
       "      <td>Kolkata</td>\n",
       "      <td>755597</td>\n",
       "      <td>2020-01-01</td>\n",
       "      <td>4</td>\n",
       "      <td>124962</td>\n",
       "      <td>44</td>\n",
       "      <td>45</td>\n",
       "      <td>-361</td>\n",
       "      <td>0</td>\n",
       "    </tr>\n",
       "    <tr>\n",
       "      <th>1</th>\n",
       "      <td>2</td>\n",
       "      <td>Reliance Jio</td>\n",
       "      <td>F</td>\n",
       "      <td>55</td>\n",
       "      <td>Mizoram</td>\n",
       "      <td>Mumbai</td>\n",
       "      <td>125926</td>\n",
       "      <td>2020-01-01</td>\n",
       "      <td>2</td>\n",
       "      <td>130556</td>\n",
       "      <td>62</td>\n",
       "      <td>39</td>\n",
       "      <td>5973</td>\n",
       "      <td>0</td>\n",
       "    </tr>\n",
       "    <tr>\n",
       "      <th>2</th>\n",
       "      <td>3</td>\n",
       "      <td>Vodafone</td>\n",
       "      <td>F</td>\n",
       "      <td>57</td>\n",
       "      <td>Arunachal Pradesh</td>\n",
       "      <td>Delhi</td>\n",
       "      <td>423976</td>\n",
       "      <td>2020-01-01</td>\n",
       "      <td>0</td>\n",
       "      <td>148828</td>\n",
       "      <td>49</td>\n",
       "      <td>24</td>\n",
       "      <td>193</td>\n",
       "      <td>1</td>\n",
       "    </tr>\n",
       "    <tr>\n",
       "      <th>3</th>\n",
       "      <td>4</td>\n",
       "      <td>BSNL</td>\n",
       "      <td>M</td>\n",
       "      <td>46</td>\n",
       "      <td>Tamil Nadu</td>\n",
       "      <td>Kolkata</td>\n",
       "      <td>522841</td>\n",
       "      <td>2020-01-01</td>\n",
       "      <td>1</td>\n",
       "      <td>38722</td>\n",
       "      <td>80</td>\n",
       "      <td>25</td>\n",
       "      <td>9377</td>\n",
       "      <td>1</td>\n",
       "    </tr>\n",
       "    <tr>\n",
       "      <th>4</th>\n",
       "      <td>5</td>\n",
       "      <td>BSNL</td>\n",
       "      <td>F</td>\n",
       "      <td>26</td>\n",
       "      <td>Tripura</td>\n",
       "      <td>Delhi</td>\n",
       "      <td>740247</td>\n",
       "      <td>2020-01-01</td>\n",
       "      <td>2</td>\n",
       "      <td>55098</td>\n",
       "      <td>78</td>\n",
       "      <td>15</td>\n",
       "      <td>1393</td>\n",
       "      <td>0</td>\n",
       "    </tr>\n",
       "    <tr>\n",
       "      <th>5</th>\n",
       "      <td>6</td>\n",
       "      <td>Vodafone</td>\n",
       "      <td>M</td>\n",
       "      <td>36</td>\n",
       "      <td>Uttarakhand</td>\n",
       "      <td>Chennai</td>\n",
       "      <td>120612</td>\n",
       "      <td>2020-01-01</td>\n",
       "      <td>1</td>\n",
       "      <td>73452</td>\n",
       "      <td>91</td>\n",
       "      <td>24</td>\n",
       "      <td>8109</td>\n",
       "      <td>0</td>\n",
       "    </tr>\n",
       "    <tr>\n",
       "      <th>6</th>\n",
       "      <td>7</td>\n",
       "      <td>BSNL</td>\n",
       "      <td>F</td>\n",
       "      <td>60</td>\n",
       "      <td>Karnataka</td>\n",
       "      <td>Delhi</td>\n",
       "      <td>609616</td>\n",
       "      <td>2020-01-01</td>\n",
       "      <td>1</td>\n",
       "      <td>110035</td>\n",
       "      <td>36</td>\n",
       "      <td>13</td>\n",
       "      <td>8512</td>\n",
       "      <td>0</td>\n",
       "    </tr>\n",
       "    <tr>\n",
       "      <th>7</th>\n",
       "      <td>8</td>\n",
       "      <td>BSNL</td>\n",
       "      <td>M</td>\n",
       "      <td>46</td>\n",
       "      <td>Arunachal Pradesh</td>\n",
       "      <td>Kolkata</td>\n",
       "      <td>866786</td>\n",
       "      <td>2020-01-01</td>\n",
       "      <td>4</td>\n",
       "      <td>104541</td>\n",
       "      <td>87</td>\n",
       "      <td>40</td>\n",
       "      <td>2245</td>\n",
       "      <td>1</td>\n",
       "    </tr>\n",
       "  </tbody>\n",
       "</table>\n",
       "</div>"
      ],
      "text/plain": [
       "   customer_id telecom_partner gender  age              state     city  \\\n",
       "0            1    Reliance Jio      F   25          Karnataka  Kolkata   \n",
       "1            2    Reliance Jio      F   55            Mizoram   Mumbai   \n",
       "2            3        Vodafone      F   57  Arunachal Pradesh    Delhi   \n",
       "3            4            BSNL      M   46         Tamil Nadu  Kolkata   \n",
       "4            5            BSNL      F   26            Tripura    Delhi   \n",
       "5            6        Vodafone      M   36        Uttarakhand  Chennai   \n",
       "6            7            BSNL      F   60          Karnataka    Delhi   \n",
       "7            8            BSNL      M   46  Arunachal Pradesh  Kolkata   \n",
       "\n",
       "   pincode date_of_registration  num_dependents  estimated_salary  calls_made  \\\n",
       "0   755597           2020-01-01               4            124962          44   \n",
       "1   125926           2020-01-01               2            130556          62   \n",
       "2   423976           2020-01-01               0            148828          49   \n",
       "3   522841           2020-01-01               1             38722          80   \n",
       "4   740247           2020-01-01               2             55098          78   \n",
       "5   120612           2020-01-01               1             73452          91   \n",
       "6   609616           2020-01-01               1            110035          36   \n",
       "7   866786           2020-01-01               4            104541          87   \n",
       "\n",
       "   sms_sent  data_used  churn  \n",
       "0        45       -361      0  \n",
       "1        39       5973      0  \n",
       "2        24        193      1  \n",
       "3        25       9377      1  \n",
       "4        15       1393      0  \n",
       "5        24       8109      0  \n",
       "6        13       8512      0  \n",
       "7        40       2245      1  "
      ]
     },
     "execution_count": 5,
     "metadata": {},
     "output_type": "execute_result"
    }
   ],
   "source": [
    "df.head(8)"
   ]
  },
  {
   "cell_type": "code",
   "execution_count": 7,
   "id": "ef70b964-136b-49fc-a23d-4525c89d14c2",
   "metadata": {},
   "outputs": [
    {
     "data": {
      "text/plain": [
       "customer_id             0\n",
       "telecom_partner         0\n",
       "gender                  0\n",
       "age                     0\n",
       "state                   0\n",
       "city                    0\n",
       "pincode                 0\n",
       "date_of_registration    0\n",
       "num_dependents          0\n",
       "estimated_salary        0\n",
       "calls_made              0\n",
       "sms_sent                0\n",
       "data_used               0\n",
       "churn                   0\n",
       "dtype: int64"
      ]
     },
     "execution_count": 7,
     "metadata": {},
     "output_type": "execute_result"
    }
   ],
   "source": [
    "df.isnull().sum()"
   ]
  },
  {
   "cell_type": "markdown",
   "id": "232ee7a0-433c-47a6-8d23-f7813089ed22",
   "metadata": {},
   "source": [
    "Converting neagtive value into positive"
   ]
  },
  {
   "cell_type": "code",
   "execution_count": 10,
   "id": "cc19ce17-592d-4d2a-b325-d24363a576a9",
   "metadata": {},
   "outputs": [],
   "source": [
    "df['calls_made'] = df['calls_made'].abs()\n",
    "df['sms_sent'] = df['sms_sent'].abs()\n",
    "df['data_used'] = df['data_used'].apply(lambda x: 0 if x<0 else x)\n",
    "df['date_of_registration'] = pd.to_datetime(df['date_of_registration'], errors='coerce')"
   ]
  },
  {
   "cell_type": "code",
   "execution_count": 12,
   "id": "047b7e19-8d9f-4359-ab78-c9e49660ad59",
   "metadata": {},
   "outputs": [
    {
     "data": {
      "text/html": [
       "<div>\n",
       "<style scoped>\n",
       "    .dataframe tbody tr th:only-of-type {\n",
       "        vertical-align: middle;\n",
       "    }\n",
       "\n",
       "    .dataframe tbody tr th {\n",
       "        vertical-align: top;\n",
       "    }\n",
       "\n",
       "    .dataframe thead th {\n",
       "        text-align: right;\n",
       "    }\n",
       "</style>\n",
       "<table border=\"1\" class=\"dataframe\">\n",
       "  <thead>\n",
       "    <tr style=\"text-align: right;\">\n",
       "      <th></th>\n",
       "      <th>customer_id</th>\n",
       "      <th>telecom_partner</th>\n",
       "      <th>gender</th>\n",
       "      <th>age</th>\n",
       "      <th>state</th>\n",
       "      <th>city</th>\n",
       "      <th>pincode</th>\n",
       "      <th>date_of_registration</th>\n",
       "      <th>num_dependents</th>\n",
       "      <th>estimated_salary</th>\n",
       "      <th>calls_made</th>\n",
       "      <th>sms_sent</th>\n",
       "      <th>data_used</th>\n",
       "      <th>churn</th>\n",
       "    </tr>\n",
       "  </thead>\n",
       "  <tbody>\n",
       "    <tr>\n",
       "      <th>0</th>\n",
       "      <td>1</td>\n",
       "      <td>Reliance Jio</td>\n",
       "      <td>F</td>\n",
       "      <td>25</td>\n",
       "      <td>Karnataka</td>\n",
       "      <td>Kolkata</td>\n",
       "      <td>755597</td>\n",
       "      <td>2020-01-01</td>\n",
       "      <td>4</td>\n",
       "      <td>124962</td>\n",
       "      <td>44</td>\n",
       "      <td>45</td>\n",
       "      <td>0</td>\n",
       "      <td>0</td>\n",
       "    </tr>\n",
       "    <tr>\n",
       "      <th>1</th>\n",
       "      <td>2</td>\n",
       "      <td>Reliance Jio</td>\n",
       "      <td>F</td>\n",
       "      <td>55</td>\n",
       "      <td>Mizoram</td>\n",
       "      <td>Mumbai</td>\n",
       "      <td>125926</td>\n",
       "      <td>2020-01-01</td>\n",
       "      <td>2</td>\n",
       "      <td>130556</td>\n",
       "      <td>62</td>\n",
       "      <td>39</td>\n",
       "      <td>5973</td>\n",
       "      <td>0</td>\n",
       "    </tr>\n",
       "    <tr>\n",
       "      <th>2</th>\n",
       "      <td>3</td>\n",
       "      <td>Vodafone</td>\n",
       "      <td>F</td>\n",
       "      <td>57</td>\n",
       "      <td>Arunachal Pradesh</td>\n",
       "      <td>Delhi</td>\n",
       "      <td>423976</td>\n",
       "      <td>2020-01-01</td>\n",
       "      <td>0</td>\n",
       "      <td>148828</td>\n",
       "      <td>49</td>\n",
       "      <td>24</td>\n",
       "      <td>193</td>\n",
       "      <td>1</td>\n",
       "    </tr>\n",
       "    <tr>\n",
       "      <th>3</th>\n",
       "      <td>4</td>\n",
       "      <td>BSNL</td>\n",
       "      <td>M</td>\n",
       "      <td>46</td>\n",
       "      <td>Tamil Nadu</td>\n",
       "      <td>Kolkata</td>\n",
       "      <td>522841</td>\n",
       "      <td>2020-01-01</td>\n",
       "      <td>1</td>\n",
       "      <td>38722</td>\n",
       "      <td>80</td>\n",
       "      <td>25</td>\n",
       "      <td>9377</td>\n",
       "      <td>1</td>\n",
       "    </tr>\n",
       "    <tr>\n",
       "      <th>4</th>\n",
       "      <td>5</td>\n",
       "      <td>BSNL</td>\n",
       "      <td>F</td>\n",
       "      <td>26</td>\n",
       "      <td>Tripura</td>\n",
       "      <td>Delhi</td>\n",
       "      <td>740247</td>\n",
       "      <td>2020-01-01</td>\n",
       "      <td>2</td>\n",
       "      <td>55098</td>\n",
       "      <td>78</td>\n",
       "      <td>15</td>\n",
       "      <td>1393</td>\n",
       "      <td>0</td>\n",
       "    </tr>\n",
       "  </tbody>\n",
       "</table>\n",
       "</div>"
      ],
      "text/plain": [
       "   customer_id telecom_partner gender  age              state     city  \\\n",
       "0            1    Reliance Jio      F   25          Karnataka  Kolkata   \n",
       "1            2    Reliance Jio      F   55            Mizoram   Mumbai   \n",
       "2            3        Vodafone      F   57  Arunachal Pradesh    Delhi   \n",
       "3            4            BSNL      M   46         Tamil Nadu  Kolkata   \n",
       "4            5            BSNL      F   26            Tripura    Delhi   \n",
       "\n",
       "   pincode date_of_registration  num_dependents  estimated_salary  calls_made  \\\n",
       "0   755597           2020-01-01               4            124962          44   \n",
       "1   125926           2020-01-01               2            130556          62   \n",
       "2   423976           2020-01-01               0            148828          49   \n",
       "3   522841           2020-01-01               1             38722          80   \n",
       "4   740247           2020-01-01               2             55098          78   \n",
       "\n",
       "   sms_sent  data_used  churn  \n",
       "0        45          0      0  \n",
       "1        39       5973      0  \n",
       "2        24        193      1  \n",
       "3        25       9377      1  \n",
       "4        15       1393      0  "
      ]
     },
     "execution_count": 12,
     "metadata": {},
     "output_type": "execute_result"
    }
   ],
   "source": [
    "df.head()"
   ]
  },
  {
   "cell_type": "markdown",
   "id": "01787d5c-8367-47eb-8f3f-53062505ece3",
   "metadata": {},
   "source": [
    "Univariate Analysis"
   ]
  },
  {
   "cell_type": "code",
   "execution_count": 15,
   "id": "5dadef26-9a14-4eca-8b7e-dc2b90c9d134",
   "metadata": {},
   "outputs": [
    {
     "data": {
      "text/plain": [
       "<Axes: ylabel='count'>"
      ]
     },
     "execution_count": 15,
     "metadata": {},
     "output_type": "execute_result"
    },
    {
     "data": {
      "image/png": "[encoded data removed]",
      "text/plain": [
       "<Figure size 640x480 with 1 Axes>"
      ]
     },
     "metadata": {},
     "output_type": "display_data"
    }
   ],
   "source": [
    "df['telecom_partner'].value_counts().plot(kind='pie')"
   ]
  },
  {
   "cell_type": "markdown",
   "id": "402cbd52-9d7d-41b6-a462-8ac29e825b50",
   "metadata": {},
   "source": [
    "Bivariate Analysis"
   ]
  },
  {
   "cell_type": "code",
   "execution_count": 18,
   "id": "8c47cea1-df02-47d4-ad72-7120aed75dc3",
   "metadata": {},
   "outputs": [
    {
     "data": {
      "image/png": "[encoded data removed]",
      "text/plain": [
       "<Figure size 800x600 with 1 Axes>"
      ]
     },
     "metadata": {},
     "output_type": "display_data"
    }
   ],
   "source": [
    "plt.figure(figsize=(8,6))\n",
    "sns.boxplot(x='telecom_partner', y='calls_made', data=df)\n",
    "plt.title(\"Calls made by users\")\n",
    "plt.xlabel('Calls made')\n",
    "plt.ylabel('Telecom Partner')\n",
    "plt.xticks(rotation=45)\n",
    "plt.show()\n"
   ]
  },
  {
   "cell_type": "code",
   "execution_count": 20,
   "id": "86c9293e-28ab-4e82-85fb-21e07ec59c4e",
   "metadata": {},
   "outputs": [
    {
     "name": "stdout",
     "output_type": "stream",
     "text": [
      "telecom_partner\n",
      "Vodafone        48.993668\n",
      "BSNL            49.250284\n",
      "Airtel          49.250571\n",
      "Reliance Jio    49.423229\n",
      "Name: calls_made, dtype: float64\n"
     ]
    }
   ],
   "source": [
    "calls_made = df.groupby('telecom_partner')['calls_made'].mean().sort_values()\n",
    "print(calls_made)"
   ]
  },
  {
   "cell_type": "code",
   "execution_count": 22,
   "id": "88396640-5e68-4c6c-a805-09eaf6f61a6f",
   "metadata": {},
   "outputs": [
    {
     "data": {
      "text/plain": [
       "<Figure size 1000x600 with 0 Axes>"
      ]
     },
     "metadata": {},
     "output_type": "display_data"
    },
    {
     "data": {
      "image/png": "[encoded data removed]",
      "text/plain": [
       "<Figure size 511.111x500 with 1 Axes>"
      ]
     },
     "metadata": {},
     "output_type": "display_data"
    }
   ],
   "source": [
    "plt.figure(figsize=(10,6))\n",
    "sns.catplot(x='telecom_partner', y='data_used', data=df, kind='box')\n",
    "plt.xlabel('Telecom Partner')\n",
    "plt.ylabel('Total data used')\n",
    "plt.title(\"Total data used by telecom partners\")\n",
    "plt.show()"
   ]
  },
  {
   "cell_type": "markdown",
   "id": "7e6a5135-834b-440a-ae9f-65a461ebc6f4",
   "metadata": {},
   "source": [
    "Calculate Monthly Revenue"
   ]
  },
  {
   "cell_type": "code",
   "execution_count": 25,
   "id": "63629079-8f27-4d36-9a9c-f055905bf2ab",
   "metadata": {},
   "outputs": [],
   "source": [
    "df['monthly_revenue'] = df['calls_made']+df['sms_sent']+df['data_used']"
   ]
  },
  {
   "cell_type": "code",
   "execution_count": 27,
   "id": "3c77842e-d85f-4849-8323-9d6860c9de4d",
   "metadata": {},
   "outputs": [
    {
     "name": "stdout",
     "output_type": "stream",
     "text": [
      "<class 'pandas.core.frame.DataFrame'>\n",
      "RangeIndex: 243553 entries, 0 to 243552\n",
      "Data columns (total 15 columns):\n",
      " #   Column                Non-Null Count   Dtype         \n",
      "---  ------                --------------   -----         \n",
      " 0   customer_id           243553 non-null  int64         \n",
      " 1   telecom_partner       243553 non-null  object        \n",
      " 2   gender                243553 non-null  object        \n",
      " 3   age                   243553 non-null  int64         \n",
      " 4   state                 243553 non-null  object        \n",
      " 5   city                  243553 non-null  object        \n",
      " 6   pincode               243553 non-null  int64         \n",
      " 7   date_of_registration  243553 non-null  datetime64[ns]\n",
      " 8   num_dependents        243553 non-null  int64         \n",
      " 9   estimated_salary      243553 non-null  int64         \n",
      " 10  calls_made            243553 non-null  int64         \n",
      " 11  sms_sent              243553 non-null  int64         \n",
      " 12  data_used             243553 non-null  int64         \n",
      " 13  churn                 243553 non-null  int64         \n",
      " 14  monthly_revenue       243553 non-null  int64         \n",
      "dtypes: datetime64[ns](1), int64(10), object(4)\n",
      "memory usage: 27.9+ MB\n"
     ]
    }
   ],
   "source": [
    "df.info()"
   ]
  },
  {
   "cell_type": "markdown",
   "id": "0be90da0-c32c-4d0e-b03a-35acf8bf491f",
   "metadata": {},
   "source": [
    "Customer LifeTime Calculation"
   ]
  },
  {
   "cell_type": "code",
   "execution_count": 30,
   "id": "f8c1c65b-7bc1-4799-a368-06da75ccefa6",
   "metadata": {},
   "outputs": [],
   "source": [
    "from datetime import datetime\n",
    "today =  datetime.today()"
   ]
  },
  {
   "cell_type": "code",
   "execution_count": 32,
   "id": "189c5a08-2985-43a0-add8-19af89d96773",
   "metadata": {},
   "outputs": [],
   "source": [
    "df['customer_tenure_months'] = ((today- df['date_of_registration']).dt.days)//30\n",
    "# Create CLV column\n",
    "df['CLV'] = df['monthly_revenue'] * df['customer_tenure_months']"
   ]
  },
  {
   "cell_type": "code",
   "execution_count": 34,
   "id": "e10d3006-7264-4bb6-9495-0e1c3ff19ec4",
   "metadata": {},
   "outputs": [
    {
     "data": {
      "text/html": [
       "<div>\n",
       "<style scoped>\n",
       "    .dataframe tbody tr th:only-of-type {\n",
       "        vertical-align: middle;\n",
       "    }\n",
       "\n",
       "    .dataframe tbody tr th {\n",
       "        vertical-align: top;\n",
       "    }\n",
       "\n",
       "    .dataframe thead th {\n",
       "        text-align: right;\n",
       "    }\n",
       "</style>\n",
       "<table border=\"1\" class=\"dataframe\">\n",
       "  <thead>\n",
       "    <tr style=\"text-align: right;\">\n",
       "      <th></th>\n",
       "      <th>customer_id</th>\n",
       "      <th>telecom_partner</th>\n",
       "      <th>gender</th>\n",
       "      <th>age</th>\n",
       "      <th>state</th>\n",
       "      <th>city</th>\n",
       "      <th>pincode</th>\n",
       "      <th>date_of_registration</th>\n",
       "      <th>num_dependents</th>\n",
       "      <th>estimated_salary</th>\n",
       "      <th>calls_made</th>\n",
       "      <th>sms_sent</th>\n",
       "      <th>data_used</th>\n",
       "      <th>churn</th>\n",
       "      <th>monthly_revenue</th>\n",
       "      <th>customer_tenure_months</th>\n",
       "      <th>CLV</th>\n",
       "    </tr>\n",
       "  </thead>\n",
       "  <tbody>\n",
       "    <tr>\n",
       "      <th>0</th>\n",
       "      <td>1</td>\n",
       "      <td>Reliance Jio</td>\n",
       "      <td>F</td>\n",
       "      <td>25</td>\n",
       "      <td>Karnataka</td>\n",
       "      <td>Kolkata</td>\n",
       "      <td>755597</td>\n",
       "      <td>2020-01-01</td>\n",
       "      <td>4</td>\n",
       "      <td>124962</td>\n",
       "      <td>44</td>\n",
       "      <td>45</td>\n",
       "      <td>0</td>\n",
       "      <td>0</td>\n",
       "      <td>89</td>\n",
       "      <td>62</td>\n",
       "      <td>5518</td>\n",
       "    </tr>\n",
       "    <tr>\n",
       "      <th>1</th>\n",
       "      <td>2</td>\n",
       "      <td>Reliance Jio</td>\n",
       "      <td>F</td>\n",
       "      <td>55</td>\n",
       "      <td>Mizoram</td>\n",
       "      <td>Mumbai</td>\n",
       "      <td>125926</td>\n",
       "      <td>2020-01-01</td>\n",
       "      <td>2</td>\n",
       "      <td>130556</td>\n",
       "      <td>62</td>\n",
       "      <td>39</td>\n",
       "      <td>5973</td>\n",
       "      <td>0</td>\n",
       "      <td>6074</td>\n",
       "      <td>62</td>\n",
       "      <td>376588</td>\n",
       "    </tr>\n",
       "    <tr>\n",
       "      <th>2</th>\n",
       "      <td>3</td>\n",
       "      <td>Vodafone</td>\n",
       "      <td>F</td>\n",
       "      <td>57</td>\n",
       "      <td>Arunachal Pradesh</td>\n",
       "      <td>Delhi</td>\n",
       "      <td>423976</td>\n",
       "      <td>2020-01-01</td>\n",
       "      <td>0</td>\n",
       "      <td>148828</td>\n",
       "      <td>49</td>\n",
       "      <td>24</td>\n",
       "      <td>193</td>\n",
       "      <td>1</td>\n",
       "      <td>266</td>\n",
       "      <td>62</td>\n",
       "      <td>16492</td>\n",
       "    </tr>\n",
       "    <tr>\n",
       "      <th>3</th>\n",
       "      <td>4</td>\n",
       "      <td>BSNL</td>\n",
       "      <td>M</td>\n",
       "      <td>46</td>\n",
       "      <td>Tamil Nadu</td>\n",
       "      <td>Kolkata</td>\n",
       "      <td>522841</td>\n",
       "      <td>2020-01-01</td>\n",
       "      <td>1</td>\n",
       "      <td>38722</td>\n",
       "      <td>80</td>\n",
       "      <td>25</td>\n",
       "      <td>9377</td>\n",
       "      <td>1</td>\n",
       "      <td>9482</td>\n",
       "      <td>62</td>\n",
       "      <td>587884</td>\n",
       "    </tr>\n",
       "    <tr>\n",
       "      <th>4</th>\n",
       "      <td>5</td>\n",
       "      <td>BSNL</td>\n",
       "      <td>F</td>\n",
       "      <td>26</td>\n",
       "      <td>Tripura</td>\n",
       "      <td>Delhi</td>\n",
       "      <td>740247</td>\n",
       "      <td>2020-01-01</td>\n",
       "      <td>2</td>\n",
       "      <td>55098</td>\n",
       "      <td>78</td>\n",
       "      <td>15</td>\n",
       "      <td>1393</td>\n",
       "      <td>0</td>\n",
       "      <td>1486</td>\n",
       "      <td>62</td>\n",
       "      <td>92132</td>\n",
       "    </tr>\n",
       "  </tbody>\n",
       "</table>\n",
       "</div>"
      ],
      "text/plain": [
       "   customer_id telecom_partner gender  age              state     city  \\\n",
       "0            1    Reliance Jio      F   25          Karnataka  Kolkata   \n",
       "1            2    Reliance Jio      F   55            Mizoram   Mumbai   \n",
       "2            3        Vodafone      F   57  Arunachal Pradesh    Delhi   \n",
       "3            4            BSNL      M   46         Tamil Nadu  Kolkata   \n",
       "4            5            BSNL      F   26            Tripura    Delhi   \n",
       "\n",
       "   pincode date_of_registration  num_dependents  estimated_salary  calls_made  \\\n",
       "0   755597           2020-01-01               4            124962          44   \n",
       "1   125926           2020-01-01               2            130556          62   \n",
       "2   423976           2020-01-01               0            148828          49   \n",
       "3   522841           2020-01-01               1             38722          80   \n",
       "4   740247           2020-01-01               2             55098          78   \n",
       "\n",
       "   sms_sent  data_used  churn  monthly_revenue  customer_tenure_months     CLV  \n",
       "0        45          0      0               89                      62    5518  \n",
       "1        39       5973      0             6074                      62  376588  \n",
       "2        24        193      1              266                      62   16492  \n",
       "3        25       9377      1             9482                      62  587884  \n",
       "4        15       1393      0             1486                      62   92132  "
      ]
     },
     "execution_count": 34,
     "metadata": {},
     "output_type": "execute_result"
    }
   ],
   "source": [
    "df.head()"
   ]
  },
  {
   "cell_type": "code",
   "execution_count": null,
   "id": "b9682edf-90d9-4c08-a642-fa05c0a60c77",
   "metadata": {},
   "outputs": [],
   "source": [
    "sns.relplot(x = df['telecom_partner'], y=df[\"monthly_revenue\"], kind=\"line\", errorbar=None)\n",
    "plt.xlabel('Telecom Partner')\n",
    "plt.ylabel('Monthly Revenue')"
   ]
  },
  {
   "cell_type": "code",
   "execution_count": null,
   "id": "1fe13641-4029-4342-93b1-b90b057d7217",
   "metadata": {},
   "outputs": [],
   "source": [
    "sns.relplot(data=df, x='telecom_partner', y='monthly_revenue', hue='CLV', kind='line')"
   ]
  },
  {
   "cell_type": "markdown",
   "id": "3094d96e-8687-4ad0-b287-d72e787097c4",
   "metadata": {},
   "source": [
    "Saving the Changes"
   ]
  },
  {
   "cell_type": "code",
   "execution_count": 57,
   "id": "7af5aaed-b5eb-4156-9c24-39f1b15bdd4b",
   "metadata": {},
   "outputs": [],
   "source": [
    "df.to_csv('churn.csv')"
   ]
  },
  {
   "cell_type": "code",
   "execution_count": null,
   "id": "2a4e5645-4607-4140-afba-29a6b0c8c7e8",
   "metadata": {},
   "outputs": [],
   "source": []
  }
 ],
 "metadata": {
  "kernelspec": {
   "display_name": "Python 3 (ipykernel)",
   "language": "python",
   "name": "python3"
  },
  "language_info": {
   "codemirror_mode": {
    "name": "ipython",
    "version": 3
   },
   "file_extension": ".py",
   "mimetype": "text/x-python",
   "name": "python",
   "nbconvert_exporter": "python",
   "pygments_lexer": "ipython3",
   "version": "3.12.4"
  }
 },
 "nbformat": 4,
 "nbformat_minor": 5
}
